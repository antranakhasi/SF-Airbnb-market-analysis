{
 "cells": [
  {
   "cell_type": "code",
   "execution_count": null,
   "metadata": {},
   "outputs": [],
   "source": [
    "import pandas as pd\n",
    "import numpy as np"
   ]
  },
  {
   "cell_type": "code",
   "execution_count": null,
   "metadata": {},
   "outputs": [],
   "source": [
    "file_path = 'data/listings.csv'\n",
    "df = pd.read_csv(file_path)\n",
    "\n",
    "df = df.drop_duplicates()\n",
    "\n",
    "df.dropna(subset=['price', 'bedrooms', 'review_scores_rating'], inplace=True)\n",
    "\n",
    "def extract_bathrooms(bathrooms_text):\n",
    "    try:\n",
    "        return float(bathrooms_text.split()[0])\n",
    "    except:\n",
    "        return np.nan\n",
    "\n",
    "df['bathrooms'] = df['bathrooms'].fillna(df['bathrooms_text'].apply(extract_bathrooms))\n",
    "\n",
    "df['price'] = df['price'].replace('[\\$,]', '', regex=True).astype(float)\n",
    "\n",
    "df['first_review'] = pd.to_datetime(df['first_review'])\n",
    "df['last_review'] = pd.to_datetime(df['last_review'])\n",
    "\n",
    "boolean_columns = ['host_is_superhost', 'instant_bookable', 'has_availability']\n",
    "for col in boolean_columns:\n",
    "    df[col] = df[col].apply(lambda x: True if x == 't' else False)\n",
    "\n",
    "\n"
   ]
  },
  {
   "cell_type": "code",
   "execution_count": null,
   "metadata": {},
   "outputs": [],
   "source": [
    "columns_to_drop = [\n",
    "    'listing_url', 'scrape_id', 'last_scrape', 'source', 'description', 'host_url',\t'neighborhood_overview', 'picture_url', 'host_location', 'host_about','host_response_time', \n",
    "    'host_response_rate', 'host_acceptance_rate','host_thumbnail_url', 'host_picture_url','host_neighbourhood', 'host_verifications', 'host_has_profile_pic', \n",
    "    'host_identity_verified', 'calendar_updated','calendar_last_scraped', 'license', 'instant_bookable', 'calculated_host_listings_count_entire_homes',\n",
    "    'calculated_host_listings_count_private_rooms','calculated_host_listings_count_shared_rooms','neighbourhood_group_cleansed', 'neighbourhood',' property_type',\n",
    "    'minimum_nights','maximum_nights','minimum_minimum_nights','maximum_minimum_nights','minimum_maximum_nights','maximum_maximum_nights','minimum_nights_avg_ntm',\n",
    "    'maximum_nights_avg_ntm','has_availability','availability_30','availability_60','availability_90','review_scores_accuracy','review_scores_cleanliness','review_scores_checkin'\n",
    "    'review_scores_communication','review_scores_location','review_scores_value'\n",
    "\n",
    "]\n",
    "\n",
    "df = df.drop(columns=columns_to_drop)\n",
    "\n",
    "df.to_csv('data/cleaned.csv')"
   ]
  }
 ],
 "metadata": {
  "language_info": {
   "name": "python"
  }
 },
 "nbformat": 4,
 "nbformat_minor": 2
}
