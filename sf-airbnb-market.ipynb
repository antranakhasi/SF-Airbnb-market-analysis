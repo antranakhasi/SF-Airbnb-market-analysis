{
 "cells": [
  {
   "cell_type": "code",
   "execution_count": null,
   "metadata": {},
   "outputs": [],
   "source": [
    "import pandas as pd\n",
    "import numpy as np\n",
    "import matplotlib.pyplot as plt\n",
    "import seaborn as sns\n",
    "from sklearn.linear_model import LinearRegression\n",
    "from sklearn.model_selection import train_test_split\n",
    "from sklearn.impute import SimpleImputer"
   ]
  },
  {
   "cell_type": "code",
   "execution_count": null,
   "metadata": {},
   "outputs": [],
   "source": [
    "file_path = 'data/listings.csv'\n",
    "df = pd.read_csv(file_path)\n",
    "\n",
    "df = df.drop_duplicates()\n",
    "print(\"Duplicates removed. Remaining rows:\", len(df))\n",
    "\n",
    "missing_values = df.isnull().sum()\n",
    "print(\"Missing values before handling:\\n\", missing_values)"
   ]
  },
  {
   "cell_type": "code",
   "execution_count": null,
   "metadata": {},
   "outputs": [],
   "source": [
    "df.dropna(subset=['price', 'bedrooms'], inplace=True)\n",
    "missing_values = df.isnull().sum()"
   ]
  },
  {
   "cell_type": "code",
   "execution_count": null,
   "metadata": {},
   "outputs": [],
   "source": [
    "def extract_bathrooms(bathrooms_text):\n",
    "    try:\n",
    "        return float(bathrooms_text.split()[0])\n",
    "    except:\n",
    "        return np.nan\n",
    "\n",
    "df['bathrooms'] = df['bathrooms'].fillna(df['bathrooms_text'].apply(extract_bathrooms))"
   ]
  },
  {
   "cell_type": "code",
   "execution_count": null,
   "metadata": {},
   "outputs": [],
   "source": [
    "df['price'] = df['price'].replace('[\\$,]', '', regex=True).astype(float)\n",
    "df['host_since'] = pd.to_datetime(df['host_since'])\n",
    "df['last_scraped'] = pd.to_datetime(df['last_scraped'])\n",
    "df['first_review'] = pd.to_datetime(df['first_review'])\n",
    "df['last_review'] = pd.to_datetime(df['last_review'])\n",
    "\n",
    "boolean_columns = ['host_is_superhost', 'instant_bookable', 'has_availability']\n",
    "for col in boolean_columns:\n",
    "    df[col] = df[col].apply(lambda x: True if x == 't' else False)"
   ]
  },
  {
   "cell_type": "code",
   "execution_count": null,
   "metadata": {},
   "outputs": [],
   "source": [
    "df['host_experience_days'] = (pd.to_datetime('today') - df['host_since']).dt.days\n",
    "\n",
    "df['avg_availability'] = df[['availability_30', 'availability_60', 'availability_90', 'availability_365']].mean(axis=1)\n",
    "\n",
    "text_columns = ['name', 'description', 'neighborhood_overview', 'host_about']\n",
    "for col in text_columns:\n",
    "    df[col] = df[col].str.lower().str.replace('[^\\w\\s]', '')"
   ]
  },
  {
   "cell_type": "code",
   "execution_count": null,
   "metadata": {},
   "outputs": [],
   "source": [
    "price_threshold = df['price'].quantile(0.99)\n",
    "df = df[df['price'] < price_threshold]"
   ]
  },
  {
   "cell_type": "code",
   "execution_count": null,
   "metadata": {},
   "outputs": [],
   "source": [
    "columns_to_drop = [\n",
    "    'listing_url', 'scrape_id', 'source','host_location', 'host_about','host_response_time', 'host_response_rate', \n",
    "    'host_acceptance_rate','host_thumbnail_url', 'host_picture_url','host_neighbourhood', 'host_listings_count', 'host_total_listings_count',\n",
    "    'host_verifications', 'host_has_profile_pic', 'host_identity_verified','neighborhood_overview',  'calendar_updated',\n",
    "    'calendar_last_scraped', 'first_review', 'last_review', 'license', 'instant_bookable', 'calculated_host_listings_count',\n",
    "    'calculated_host_listings_count_entire_homes','calculated_host_listings_count_private_rooms','calculated_host_listings_count_shared_rooms',\n",
    "    'neighbourhood_group_cleansed', 'neighbourhood'\n",
    "]\n",
    "\n",
    "df_cleaned = df.drop(columns=columns_to_drop)\n"
   ]
  },
  {
   "cell_type": "code",
   "execution_count": null,
   "metadata": {},
   "outputs": [],
   "source": [
    "df_cleaned.head(50)"
   ]
  },
  {
   "cell_type": "code",
   "execution_count": null,
   "metadata": {},
   "outputs": [],
   "source": [
    "plt.figure(figsize=(10, 6))\n",
    "sns.histplot(df['price'], kde=True, bins=50)\n",
    "plt.title('Distribution of Rental Prices')\n",
    "plt.xlabel('Price')\n",
    "plt.ylabel('Frequency')\n",
    "plt.show()"
   ]
  },
  {
   "cell_type": "code",
   "execution_count": null,
   "metadata": {},
   "outputs": [],
   "source": [
    "plt.figure(figsize=(10, 6))\n",
    "sns.boxplot(x='room_type', y='price', data=df)\n",
    "plt.title('Price by Room Type')\n",
    "plt.xlabel('Room Type')\n",
    "plt.ylabel('Price')\n",
    "plt.show()"
   ]
  },
  {
   "cell_type": "code",
   "execution_count": null,
   "metadata": {},
   "outputs": [],
   "source": [
    "plt.figure(figsize=(10, 6))\n",
    "sns.boxplot(x='property_type', y='price', data=df)\n",
    "plt.title('Price by Property Type')\n",
    "plt.xlabel('Property Type')\n",
    "plt.ylabel('Price')\n",
    "plt.xticks(rotation=90)\n",
    "plt.show()"
   ]
  },
  {
   "cell_type": "code",
   "execution_count": null,
   "metadata": {},
   "outputs": [],
   "source": [
    "neighborhood_density = df['neighbourhood_cleansed'].value_counts().reset_index()\n",
    "neighborhood_density.columns = ['neighbourhood_cleansed', 'listings_count']\n",
    "\n",
    "plt.figure(figsize=(12, 8))\n",
    "sns.barplot(data=neighborhood_density.head(20), x='listings_count', y='neighbourhood_cleansed')\n",
    "plt.title('Top 20 Neighborhoods by Listing Density')\n",
    "plt.xlabel('Number of Listings')\n",
    "plt.ylabel('Neighborhood')\n",
    "plt.show()"
   ]
  },
  {
   "cell_type": "code",
   "execution_count": null,
   "metadata": {},
   "outputs": [],
   "source": [
    "neighborhood_price = df.groupby('neighbourhood_cleansed')['price'].mean().reset_index()\n",
    "\n",
    "plt.figure(figsize=(12, 8))\n",
    "sns.barplot(data=neighborhood_price.sort_values(by='price', ascending=False).head(20), x='price', y='neighbourhood_cleansed')\n",
    "plt.title('Top 20 Neighborhoods by Average Price')\n",
    "plt.xlabel('Average Price')\n",
    "plt.ylabel('Neighborhood')\n",
    "plt.show()"
   ]
  },
  {
   "cell_type": "code",
   "execution_count": null,
   "metadata": {},
   "outputs": [],
   "source": [
    "df['occupancy_rate'] = 1 - df['availability_365'] / 365\n",
    "\n",
    "availability_columns = ['availability_30', 'availability_60', 'availability_90', 'availability_365']\n",
    "availability_data = df[availability_columns].mean().reset_index()\n",
    "availability_data.columns = ['Period', 'Average Availability']\n",
    "\n",
    "plt.figure(figsize=(10, 6))\n",
    "sns.barplot(data=availability_data, x='Period', y='Average Availability')\n",
    "plt.title('Average Availability Over Different Periods')\n",
    "plt.xlabel('Period')\n",
    "plt.ylabel('Average Availability')\n",
    "plt.show()"
   ]
  },
  {
   "cell_type": "code",
   "execution_count": null,
   "metadata": {},
   "outputs": [],
   "source": [
    "neighborhood_occupancy = df.groupby('neighbourhood_cleansed')['occupancy_rate'].mean().reset_index()\n",
    "\n",
    "plt.figure(figsize=(12, 8))\n",
    "sns.barplot(data=neighborhood_occupancy.sort_values(by='occupancy_rate', ascending=False).head(20), x='occupancy_rate', y='neighbourhood_cleansed')\n",
    "plt.title('Top 20 Neighborhoods by Occupancy Rate')\n",
    "plt.xlabel('Average Occupancy Rate')\n",
    "plt.ylabel('Neighborhood')\n",
    "plt.show()"
   ]
  },
  {
   "cell_type": "code",
   "execution_count": null,
   "metadata": {},
   "outputs": [],
   "source": [
    "correlation_matrix = df[['price', 'accommodates', 'bathrooms', 'bedrooms', 'beds', 'review_scores_rating']].corr()\n",
    "\n",
    "plt.figure(figsize=(10, 6))\n",
    "sns.heatmap(correlation_matrix, annot=True, cmap='coolwarm', vmin=-1, vmax=1)\n",
    "plt.title('Correlation Matrix')\n",
    "plt.show()"
   ]
  },
  {
   "cell_type": "code",
   "execution_count": null,
   "metadata": {},
   "outputs": [],
   "source": [
    "features = ['accommodates', 'bathrooms', 'bedrooms', 'beds', 'review_scores_rating']\n",
    "X = df[features]\n",
    "y = df['price']\n",
    "\n",
    "imputer = SimpleImputer(strategy='mean')\n",
    "X = imputer.fit_transform(X)\n",
    "\n",
    "\n",
    "X_train, X_test, y_train, y_test = train_test_split(X, y, test_size=0.2, random_state=42)\n",
    "\n",
    "model = LinearRegression()\n",
    "model.fit(X_train, y_train)\n",
    "\n",
    "feature_importance = pd.DataFrame({'feature': features, 'importance': model.coef_})\n",
    "feature_importance = feature_importance.sort_values(by='importance', ascending=False)\n",
    "\n",
    "plt.figure(figsize=(10, 6))\n",
    "sns.barplot(data=feature_importance, x='importance', y='feature')\n",
    "plt.title('Feature Importance')\n",
    "plt.xlabel('Importance')\n",
    "plt.ylabel('Feature')\n",
    "plt.show()"
   ]
  }
 ],
 "metadata": {
  "kernelspec": {
   "display_name": "venv",
   "language": "python",
   "name": "python3"
  },
  "language_info": {
   "codemirror_mode": {
    "name": "ipython",
    "version": 3
   },
   "file_extension": ".py",
   "mimetype": "text/x-python",
   "name": "python",
   "nbconvert_exporter": "python",
   "pygments_lexer": "ipython3",
   "version": "3.11.4"
  }
 },
 "nbformat": 4,
 "nbformat_minor": 2
}
